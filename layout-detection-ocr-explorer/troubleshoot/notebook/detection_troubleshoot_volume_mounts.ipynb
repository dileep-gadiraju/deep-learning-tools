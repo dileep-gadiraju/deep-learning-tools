{
 "cells": [
  {
   "cell_type": "code",
   "execution_count": 8,
   "metadata": {
    "id": "8mazZCaqh6b8"
   },
   "outputs": [],
   "source": [
    "# Google drive Path settings\n",
    "\n",
    "supplier_id = 'SkellefteaKraft'\n",
    "detect_img_save_dir = \"/home/jovyan/work/SkellefteaKraft/detectimg/\"\n",
    "MODEL_PATH = \"/home/jovyan/work/models.yaml\"\n",
    "pdf_dir ='/home/jovyan/work/SkellefteaKraft/pdf'\n",
    "pdf2img_dir ='/home/jovyan/work/SkellefteaKraft/pdf2img'\n",
    "annotation_xml_path = '/home/jovyan/work/SkellefteaKraft/annotations/fakt0001-03.xml'\n",
    "\n",
    "dpi = 300\n"
   ]
  },
  {
   "cell_type": "code",
   "execution_count": 9,
   "metadata": {
    "id": "M4aW_d578o2Q"
   },
   "outputs": [],
   "source": [
    "## Import required package\n",
    "import pytesseract\n",
    "from pytesseract import Output\n",
    "import pdf2image\n",
    "import cv2\n",
    "import os\n",
    "import matplotlib.pyplot as plt\n",
    "import glob\n"
   ]
  },
  {
   "cell_type": "code",
   "execution_count": 10,
   "metadata": {
    "id": "0Xxr_cWTR_dV"
   },
   "outputs": [],
   "source": [
    "\n",
    "import xml.etree.ElementTree as ET\n",
    "\n",
    "classes =  ['m','h','fm1','fm2','fm3','fd','t','ms']\n",
    "\n",
    "def convert(size, box):\n",
    "    dw = 1./(size[0])\n",
    "    dh = 1./(size[1])\n",
    "    x = (box[0] + box[1])/2.0 - 1\n",
    "    y = (box[2] + box[3])/2.0 - 1\n",
    "    w = box[1] - box[0]\n",
    "    h = box[3] - box[2]\n",
    "    x = x*dw\n",
    "    w = w*dw\n",
    "    y = y*dh\n",
    "    h = h*dh\n",
    "    return (x,y,w,h)\n",
    "\n",
    "def convert_annotation(output_path, in_file):\n",
    "    basename = os.path.basename(in_file)\n",
    "    basename_no_ext = os.path.splitext(basename)[0]\n",
    "\n",
    "    with open(output_path + basename_no_ext + '.txt', \"w\") as out_file :\n",
    "        tree = ET.parse(in_file)\n",
    "        root = tree.getroot()\n",
    "        size = root.find('size')\n",
    "        w = int(size.find('width').text)\n",
    "        h = int(size.find('height').text)\n",
    "\n",
    "        for obj in root.iter('object'):\n",
    "            difficult = obj.find('difficult').text\n",
    "            cls = obj.find('name').text\n",
    "            if cls not in classes or int(difficult)==1:\n",
    "                continue\n",
    "            cls_id = classes.index(cls)\n",
    "            xmlbox = obj.find('bndbox')\n",
    "            b = (float(xmlbox.find('xmin').text), float(xmlbox.find('xmax').text), float(xmlbox.find('ymin').text), float(xmlbox.find('ymax').text))\n",
    "            bb = convert((w,h), b)\n",
    "            out_file.write(str(cls_id) + \" \" + \" \".join([str(a) for a in bb]) + '\\n')\n",
    "\n",
    "\n",
    "from shutil import copy\n",
    "\n",
    "def copy_im(output_path,im_dir, in_file):\n",
    "    basename = os.path.basename(in_file)\n",
    "    basename_no_ext = os.path.splitext(basename)[0]\n",
    "\n",
    "    copy(im_dir + basename_no_ext +'.jpg' , output_path)\n"
   ]
  },
  {
   "cell_type": "code",
   "execution_count": 11,
   "metadata": {
    "id": "g_eA138DMcaj"
   },
   "outputs": [],
   "source": [
    "\n",
    "## Convert PDFs to jpg \n",
    "\n",
    "images = pdf2image.convert_from_path(pdf_dir+\"/Fakturaforklaring_eng_150306.pdf\", dpi=dpi, output_file=\"Fakturaforklaring_eng_150306\", output_folder=pdf2img_dir, fmt='jpg', paths_only=True)\n",
    "\n",
    "# count =0\n",
    "# for pdf_path in glob.glob(pdf_dir + '/*.pdf'):\n",
    "#     image_filename = pdf_path.split('/')[-1][:-4]\n",
    "#     print(pdf_path, image_filename)\n",
    "#     images = pdf2image.convert_from_path(pdf_path, dpi=dpi, output_file=image_filename, output_folder=output_dir, fmt='jpg', paths_only=True)\n",
    "#     #print(type(images))\n",
    "#     #print(len(images))\n",
    "#     count=count+1\n",
    "#     if(count>=50): \n",
    "#       break\n",
    "\n"
   ]
  },
  {
   "cell_type": "code",
   "execution_count": 12,
   "metadata": {
    "id": "Srr8wUHaVK6g"
   },
   "outputs": [],
   "source": [
    "# Read Annotations\n",
    "\n",
    "import xml.etree.ElementTree as ET\n",
    "\n",
    "\n",
    "def read_content(xml_file: str):\n",
    "\n",
    "    tree = ET.parse(xml_file)\n",
    "    root = tree.getroot()\n",
    "\n",
    "    list_with_all_boxes = []\n",
    "\n",
    "    for boxes in root.iter('object'):\n",
    "\n",
    "        filename = root.find('filename').text\n",
    "        clss = None\n",
    "        ymin, xmin, ymax, xmax = None, None, None, None\n",
    "\n",
    "\n",
    "        clss = str(boxes.find(\"name\").text)\n",
    "        ymin = int(boxes.find(\"bndbox/ymin\").text)\n",
    "        xmin = int(boxes.find(\"bndbox/xmin\").text)\n",
    "        ymax = int(boxes.find(\"bndbox/ymax\").text)\n",
    "        xmax = int(boxes.find(\"bndbox/xmax\").text)\n",
    "\n",
    "        list_with_single_boxes = [xmin, ymin, xmax, ymax]\n",
    "        list_with_all_boxes.append( {'class' : clss  ,'box' : list_with_single_boxes }  )\n",
    "\n",
    "    return filename, list_with_all_boxes\n",
    "\n",
    "def crop_im(im,coord,show=True):\n",
    "    xmin,ymin,xmax,ymax = coord\n",
    "    crop = im[ymin:ymax,xmin:xmax]\n",
    "    if show:\n",
    "        plt.imshow(crop)\n",
    "    return crop\n",
    "\n",
    "def ocr(im):\n",
    "    return pytesseract.image_to_string(im,lang='Latin')\n",
    "\n",
    "\n"
   ]
  },
  {
   "cell_type": "code",
   "execution_count": 13,
   "metadata": {
    "id": "2JPsk7eUjkTC"
   },
   "outputs": [
    {
     "data": {
      "image/png": "[encoded data removed]",
      "text/plain": [
       "<Figure size 432x288 with 1 Axes>"
      ]
     },
     "metadata": {
      "needs_background": "light"
     },
     "output_type": "display_data"
    }
   ],
   "source": [
    "## Cropping images based on annotation xml\n",
    "\n",
    "image_path = os.path.join(pdf2img_dir,'Fakturaforklaring_eng_1503060001-1.jpg')\n",
    "image = cv2.imread(image_path)\n",
    "plt.imshow(image)\n",
    "im_name, boxes = read_content(annotation_xml_path)\n",
    "\n",
    "im_name, boxes = read_content(annotation_xml_path)\n",
    "\n",
    "box_index = 1\n",
    "_= crop_im(image, boxes[box_index]['box'])"
   ]
  },
  {
   "cell_type": "code",
   "execution_count": 14,
   "metadata": {
    "colab": {
     "base_uri": "https://localhost:8080/",
     "height": 76
    },
    "id": "NCu5ELfQXmja",
    "outputId": "fc07dff8-42de-4df6-ecb4-989140f01d11"
   },
   "outputs": [
    {
     "data": {
      "image/png": "[encoded data removed]",
      "text/plain": [
       "<Figure size 432x288 with 1 Axes>"
      ]
     },
     "metadata": {
      "needs_background": "light"
     },
     "output_type": "display_data"
    }
   ],
   "source": [
    "## Cropping images based on annotation xml\n",
    "\n",
    "image_path = os.path.join(pdf2img_dir,'Fakturaforklaring_eng_1503060001-1.jpg')\n",
    "image = cv2.imread(image_path)\n",
    "plt.imshow(image)\n",
    "im_name, boxes = read_content(annotation_xml_path)\n",
    "\n",
    "im_name, boxes = read_content(annotation_xml_path)\n",
    "\n",
    "box_index = 1\n",
    "_= crop_im(image, boxes[box_index]['box'])\n"
   ]
  },
  {
   "cell_type": "code",
   "execution_count": 15,
   "metadata": {
    "colab": {
     "base_uri": "https://localhost:8080/",
     "height": 1000
    },
    "id": "dlP7bH9rmJ4e",
    "outputId": "f6f0d054-4f55-4c96-9ed6-2670ee20f9f0"
   },
   "outputs": [
    {
     "name": "stdout",
     "output_type": "stream",
     "text": [
      "faciltity_data \n",
      " a Anläggningsinformation @ Avtalsinformation\n",
      "TO Se specifikation TO Se specifikation\n",
      "\f",
      "\n"
     ]
    },
    {
     "data": {
      "image/png": "[encoded data removed]",
      "text/plain": [
       "<Figure size 432x288 with 1 Axes>"
      ]
     },
     "metadata": {
      "needs_background": "light"
     },
     "output_type": "display_data"
    }
   ],
   "source": [
    "### Crop Images using Annotations and OCR for text extraction\n",
    "## Uncomment below install commands first time.\n",
    "#!sudo apt-get install tesseract-ocr\n",
    "#!sudo apt-get install tesseract-ocr-script-latn\n",
    "\n",
    "def crop_im(im,coord,show=True):\n",
    "    xmin,ymin,xmax,ymax = coord\n",
    "    crop = im[ymin:ymax,xmin:xmax]\n",
    "    if show:\n",
    "        plt.imshow(crop)\n",
    "    return crop\n",
    "\n",
    "def ocr(im):\n",
    "    return pytesseract.image_to_string(im,lang='Latin')\n",
    "\n",
    "def get_text(boxes,image,skip_class=[]):\n",
    "    for box_index,box in enumerate(boxes) : \n",
    "        print('processing : ',box_index)\n",
    "        crop_cls = boxes[box_index]['class']\n",
    "        if crop_cls not in skip_class :\n",
    "            crop = crop_im(image, boxes[box_index]['box'],show=False)\n",
    "            boxes[box_index]['text'] = ocr(crop)\n",
    "    return boxes\n",
    "\n",
    "# Uncheck first time.\n",
    "#!pip install pillow==4.1.1\n",
    "#%reload_ext autoreload\n",
    "#%autoreload\n",
    "\n",
    "image_path = os.path.join(pdf2img_dir,'Fakturaforklaring_eng_1503060001-1.jpg')\n",
    "image = cv2.imread(image_path)\n",
    "box_index = 4\n",
    "crop_cls = boxes[box_index]['class']\n",
    "crop = crop_im(image, boxes[box_index]['box'])\n",
    "\n",
    "text = ocr(crop)\n",
    "print(crop_cls, '\\n',text)"
   ]
  },
  {
   "cell_type": "code",
   "execution_count": 16,
   "metadata": {},
   "outputs": [
    {
     "name": "stderr",
     "output_type": "stream",
     "text": [
      "mkdir: cannot create directory ‘/home/jovyan/work/logs’: File exists\n"
     ]
    },
    {
     "name": "stdout",
     "output_type": "stream",
     "text": [
      "/home/jovyan/work/SkellefteaKraft/pdf2img/Fakturaforklaring_eng_1503060001-2.jpg\n",
      "loading model for :  SkellefteaKraft\n"
     ]
    },
    {
     "name": "stderr",
     "output_type": "stream",
     "text": [
      "/opt/conda/lib/python3.9/site-packages/torch/functional.py:445: UserWarning: torch.meshgrid: in an upcoming release, it will be required to pass the indexing argument. (Triggered internally at  ../aten/src/ATen/native/TensorShape.cpp:2157.)\n",
      "  return _VF.meshgrid(tensors, **kwargs)  # type: ignore[attr-defined]\n"
     ]
    },
    {
     "name": "stdout",
     "output_type": "stream",
     "text": [
      "/home/jovyan/work/SkellefteaKraft/detectimg/<>Fakturaforklaring_eng_1503060001-2.jpg\n"
     ]
    },
    {
     "data": {
      "text/plain": [
       "[{'class': 'fm2',\n",
       "  'coords': [1493.439453125,\n",
       "   1422.7891845703125,\n",
       "   1997.7734375,\n",
       "   1593.98095703125],\n",
       "  'score': '1.00'},\n",
       " {'class': 'fd',\n",
       "  'coords': [184.00071716308594,\n",
       "   1669.45751953125,\n",
       "   2241.57080078125,\n",
       "   1821.4232177734375],\n",
       "  'score': '1.00'},\n",
       " {'class': 't',\n",
       "  'coords': [208.67669677734375,\n",
       "   2239.504638671875,\n",
       "   2244.07958984375,\n",
       "   2289.4794921875],\n",
       "  'score': '1.00'},\n",
       " {'class': 'fm1',\n",
       "  'coords': [213.94981384277344,\n",
       "   1409.22509765625,\n",
       "   1110.522216796875,\n",
       "   1612.361572265625],\n",
       "  'score': '1.00'},\n",
       " {'class': 't',\n",
       "  'coords': [205.6514434814453,\n",
       "   1114.0655517578125,\n",
       "   2246.367919921875,\n",
       "   1163.9898681640625],\n",
       "  'score': '1.00'},\n",
       " {'class': 't',\n",
       "  'coords': [213.4337158203125,\n",
       "   1822.8111572265625,\n",
       "   2249.32861328125,\n",
       "   1871.5263671875],\n",
       "  'score': '1.00'},\n",
       " {'class': 'fd',\n",
       "  'coords': [161.17007446289062,\n",
       "   952.3098754882812,\n",
       "   2247.4169921875,\n",
       "   1104.8875732421875],\n",
       "  'score': '1.00'},\n",
       " {'class': 'fm1',\n",
       "  'coords': [201.97344970703125,\n",
       "   731.2813720703125,\n",
       "   1107.604736328125,\n",
       "   903.7161254882812],\n",
       "  'score': '1.00'},\n",
       " {'class': 'fm2',\n",
       "  'coords': [1504.69775390625,\n",
       "   734.0682373046875,\n",
       "   2170.397705078125,\n",
       "   904.596435546875],\n",
       "  'score': '1.00'},\n",
       " {'class': 'fm3',\n",
       "  'coords': [230.44020080566406,\n",
       "   913.2672119140625,\n",
       "   1369.11083984375,\n",
       "   960.3902587890625],\n",
       "  'score': '1.00'},\n",
       " {'class': 'ms',\n",
       "  'coords': [170.79664611816406,\n",
       "   2105.220703125,\n",
       "   2223.5849609375,\n",
       "   2247.37548828125],\n",
       "  'score': '1.00'},\n",
       " {'class': 'fm1',\n",
       "  'coords': [1563.0865478515625,\n",
       "   2672.015869140625,\n",
       "   2231.341552734375,\n",
       "   2880.058349609375],\n",
       "  'score': '1.00'},\n",
       " {'class': 'fm3',\n",
       "  'coords': [163.48838806152344,\n",
       "   1619.4410400390625,\n",
       "   1364.41845703125,\n",
       "   1668.6873779296875],\n",
       "  'score': '1.00'},\n",
       " {'class': 'h',\n",
       "  'coords': [1299.94677734375, 368.1707458496094, 2297.8125, 550.74658203125],\n",
       "  'score': '0.52'}]"
      ]
     },
     "execution_count": 16,
     "metadata": {},
     "output_type": "execute_result"
    },
    {
     "data": {
      "image/png": "[encoded data removed]",
      "text/plain": [
       "<Figure size 432x288 with 1 Axes>"
      ]
     },
     "metadata": {
      "needs_background": "light"
     },
     "output_type": "display_data"
    }
   ],
   "source": [
    "### Evaluate Layout Detection model with sample invoices\n",
    "import layoutparser as lp\n",
    "import yaml\n",
    "import datetime\n",
    "import uuid\n",
    "import os\n",
    "\n",
    "SUPPORTED_SUPPLIERS = [\"SkellefteaKraft\"]\n",
    "MULTI_OCR = True\n",
    "OCR_MODE = \"ACCURATE\"  # ['FAST',\"ACCURATE\"]\n",
    "\n",
    "EXRACTION_RESOLUTION = 300\n",
    "BASE_DIR = \"/home/jovyan/work\"\n",
    "LOGS_DIR = os.path.join(BASE_DIR, \"logs\")\n",
    "LOGS = \"{}/{}_{}.logs\".format(LOGS_DIR, str(datetime.datetime.now())[:10], uuid.uuid4())\n",
    "os.system(\"mkdir - p {}\".format(LOGS_DIR))\n",
    "\n",
    "\n",
    "# DEV TOOLS\n",
    "troubleShoot = False\n",
    "DEBUG = False\n",
    "SAVE = True\n",
    "INTM_OUTPUT_PATH = \"\"\n",
    "\n",
    "\n",
    "CLASS_MAPPING = {0: \"m\", 1: \"fm1\", 2: \"fm2\", 3: \"fm3\", 4: \"fd\", 5: \"t\", 6: \"ms\", 7: \"h\"}\n",
    "global layout_models\n",
    "layout_models = {}\n",
    "\n",
    "def load_model(supplier_id, class_mapping):\n",
    "    print(\"loading model for : \", supplier_id)\n",
    "\n",
    "    with open(MODEL_PATH, \"r\") as stream:\n",
    "        model_meta = yaml.safe_load(stream)\n",
    "\n",
    "    layout_models[supplier_id] = lp.Detectron2LayoutModel(\n",
    "        model_meta[supplier_id][\"CONFIG\"],\n",
    "        model_path=model_meta[supplier_id][\"MODEL_PATH\"],\n",
    "        label_map=class_mapping,\n",
    "        extra_config=[\"MODEL.ROI_HEADS.SCORE_THRESH_TEST\", 0.5],\n",
    "    )\n",
    "def transform_to_dict(layouts):\n",
    "\n",
    "    raw_layouts = []\n",
    "    for idx, ele in enumerate(layouts):\n",
    "        raw_layouts.append(\n",
    "            {\n",
    "                \"class\": ele.type,\n",
    "                \"coords\": list(ele.coordinates),\n",
    "                \"score\": format(ele.score, \".2f\"),\n",
    "            }\n",
    "        )\n",
    "\n",
    "    return raw_layouts\n",
    "\n",
    "def detect_layout(image,image_name, supplier_id, class_mapping):\n",
    "\n",
    "    if supplier_id not in layout_models.keys():\n",
    "        load_model(supplier_id, class_mapping)\n",
    "\n",
    "    layouts = layout_models[supplier_id].detect(image)\n",
    "    bbox, tag = draw_box(layouts, image, image_name, 1, detect_img_save_dir)\n",
    "    return transform_to_dict(layouts)\n",
    "\n",
    "def update_box_format(coords, tags, score):\n",
    "    final_coord = []\n",
    "    for idx, coord in enumerate(coords):\n",
    "        temp_dict = {}\n",
    "        vert = []\n",
    "        temp_dict[\"identifier\"] = str(uuid.uuid4())\n",
    "        vert.append({\"x\": coord[0], \"y\": coord[1]})\n",
    "        vert.append({\"x\": coord[2], \"y\": coord[1]})\n",
    "        vert.append({\"x\": coord[2], \"y\": coord[3]})\n",
    "        vert.append({\"x\": coord[0], \"y\": coord[3]})\n",
    "        temp_dict[\"boundingBox\"] = {}\n",
    "        temp_dict[\"boundingBox\"][\"vertices\"] = vert\n",
    "        final_coord.append(temp_dict)\n",
    "    return final_coord\n",
    "\n",
    "def draw_box(layout, image, name, iteration, save_dir):\n",
    "    font = cv2.FONT_HERSHEY_SIMPLEX\n",
    "    fontScale = 2\n",
    "    thickness = 3\n",
    "    region_color = (200, 50, 10)\n",
    "    bbox = []\n",
    "    tag = []\n",
    "    scores = []\n",
    "    for idx, ele in enumerate(layout):\n",
    "        bbox.append(list(ele.coordinates))\n",
    "        tag.append(ele.type)\n",
    "        scores.append(format(ele.score, \".2f\"))\n",
    "    layouts = update_box_format(bbox, tag, scores)\n",
    "    regions = layouts  # remove_overlap.remove_overlap(layouts)\n",
    "    image = cv2.putText(\n",
    "        image,\n",
    "        str(iteration),\n",
    "        (\n",
    "            50,\n",
    "            50,\n",
    "        ),\n",
    "        font,\n",
    "        fontScale,\n",
    "        region_color,\n",
    "        thickness,\n",
    "        cv2.LINE_AA,\n",
    "    )\n",
    "\n",
    "    for index, region in enumerate(regions):\n",
    "        image = cv2.rectangle(\n",
    "            image,\n",
    "            (\n",
    "                int(region[\"boundingBox\"][\"vertices\"][0][\"x\"]),\n",
    "                int(region[\"boundingBox\"][\"vertices\"][0][\"y\"]),\n",
    "            ),\n",
    "            (\n",
    "                int(region[\"boundingBox\"][\"vertices\"][2][\"x\"]),\n",
    "                int(region[\"boundingBox\"][\"vertices\"][2][\"y\"]),\n",
    "            ),\n",
    "            (10, 20, 250),\n",
    "            5,\n",
    "        )\n",
    "        image = cv2.putText(\n",
    "            image,\n",
    "            \"{} {}\".format(tag[index], scores[index]),\n",
    "            (\n",
    "                int(region[\"boundingBox\"][\"vertices\"][0][\"x\"]) - 50,\n",
    "                int(region[\"boundingBox\"][\"vertices\"][0][\"y\"]) - 20,\n",
    "            ),\n",
    "            font,\n",
    "            fontScale,\n",
    "            region_color,\n",
    "            thickness,\n",
    "            cv2.LINE_AA,\n",
    "        )\n",
    "    cv2.imwrite(os.path.join(save_dir, str(name)), image)\n",
    "    print(save_dir+\"<>\"+str(name))\n",
    "    plt.imshow(image)\n",
    "    return bbox, tag\n",
    "\n",
    "img_dir ='/home/jovyan/work/SkellefteaKraft/pdf2img'\n",
    "image_name = 'Fakturaforklaring_eng_1503060001-2.jpg'\n",
    "image_path = os.path.join(img_dir,image_name)\n",
    "print(image_path)\n",
    "image = cv2.imread(image_path)\n",
    "detect_layout(image,image_name, supplier_id, CLASS_MAPPING)\n"
   ]
  },
  {
   "cell_type": "code",
   "execution_count": null,
   "metadata": {},
   "outputs": [],
   "source": []
  }
 ],
 "metadata": {
  "kernelspec": {
   "display_name": "Python 3 (ipykernel)",
   "language": "python",
   "name": "python3"
  },
  "language_info": {
   "codemirror_mode": {
    "name": "ipython",
    "version": 3
   },
   "file_extension": ".py",
   "mimetype": "text/x-python",
   "name": "python",
   "nbconvert_exporter": "python",
   "pygments_lexer": "ipython3",
   "version": "3.9.7"
  }
 },
 "nbformat": 4,
 "nbformat_minor": 4
}
